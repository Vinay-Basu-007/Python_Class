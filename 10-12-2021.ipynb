{
 "cells": [
  {
   "cell_type": "markdown",
   "id": "0a2464e0",
   "metadata": {},
   "source": [
    "## write a program to calculate area of circle with radius 7"
   ]
  },
  {
   "cell_type": "code",
   "execution_count": 6,
   "id": "7318bbac",
   "metadata": {},
   "outputs": [
    {
     "name": "stdout",
     "output_type": "stream",
     "text": [
      "153.86\n",
      "The area of the circle is 153.86\n",
      "The area of the circle is 153.86 and pi 3.14 having radius 7\n"
     ]
    }
   ],
   "source": [
    "r = 7\n",
    "pi = 3.14\n",
    "area = pi * r * r\n",
    "\n",
    "print(area)\n",
    "print(\"The area of the circle is\",area)\n",
    "\n",
    "print(\"The area of the circle is {} and pi {} having radius {}\".format(area, pi, r))"
   ]
  },
  {
   "cell_type": "markdown",
   "id": "cb7b59b5",
   "metadata": {},
   "source": [
    "## write a program to calculate perimeter of the cricle with radius 10.2"
   ]
  },
  {
   "cell_type": "code",
   "execution_count": 8,
   "id": "dd6b0e1e",
   "metadata": {},
   "outputs": [
    {
     "name": "stdout",
     "output_type": "stream",
     "text": [
      "64.056\n",
      "The perimeter of the circle is 64.056\n",
      "The perimeter of the circle is 64.056 and pi 3.14 having radius 10.2\n"
     ]
    }
   ],
   "source": [
    "r = 10.2\n",
    "pi = 3.14\n",
    "perimeter = 2*pi*r\n",
    "\n",
    "print(perimeter)\n",
    "print(\"The perimeter of the circle is\", perimeter)\n",
    "print(\"The perimeter of the circle is {} and pi {} having radius {}\".format(perimeter, pi, r))"
   ]
  },
  {
   "cell_type": "code",
   "execution_count": null,
   "id": "861b9894",
   "metadata": {},
   "outputs": [],
   "source": []
  }
 ],
 "metadata": {
  "kernelspec": {
   "display_name": "Python 3 (ipykernel)",
   "language": "python",
   "name": "python3"
  },
  "language_info": {
   "codemirror_mode": {
    "name": "ipython",
    "version": 3
   },
   "file_extension": ".py",
   "mimetype": "text/x-python",
   "name": "python",
   "nbconvert_exporter": "python",
   "pygments_lexer": "ipython3",
   "version": "3.10.0"
  }
 },
 "nbformat": 4,
 "nbformat_minor": 5
}
