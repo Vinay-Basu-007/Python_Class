{
 "cells": [
  {
   "cell_type": "code",
   "execution_count": 1,
   "id": "b432860f",
   "metadata": {},
   "outputs": [
    {
     "name": "stdout",
     "output_type": "stream",
     "text": [
      "golonhceT_noitamrofn\n",
      "mnh\n",
      "oTt\n",
      "\n",
      "\n",
      "\n",
      "\n",
      "lncTniar\n",
      "\n",
      "\n",
      "ylhToaoI\n",
      "yoohe_otmon\n",
      "\n",
      "frainTcnl\n",
      "mnh\n",
      "oaoThl\n",
      "IfrainTcnlg\n",
      "yn_an\n"
     ]
    }
   ],
   "source": [
    "a=\"Information_Technology\"\n",
    "\n",
    "print(a[-2:0:-1])            #golonhceT_noitamrofnI\n",
    "print(a[5:-5:5])             #mh\n",
    "print(a[-5:5:-5])            #oTt\n",
    "print(a[5:-5:-5])            #\n",
    "print(a[3:9:-1])             #\n",
    "print(a[9:-10:-2])\n",
    "print(a[2:-4:-4])\n",
    "print(a[-4:2:-2])\n",
    "print(a[0:-1:-3])\n",
    "print(a[-3:3:6])\n",
    "print(a[::-3])\n",
    "print(a[::-2])\n",
    "print(a[2:-2:-2])\n",
    "print(a[2:-2:2])\n",
    "print(a[5:-5:5])\n",
    "print(a[3:-3:3])\n",
    "print(a[::2])\n",
    "print(a[::-5])"
   ]
  },
  {
   "cell_type": "code",
   "execution_count": 2,
   "id": "febeea58",
   "metadata": {},
   "outputs": [
    {
     "name": "stdout",
     "output_type": "stream",
     "text": [
      "eterpretni_gnisu_si_nohty\n",
      "nu_r\n",
      "rnii\n",
      "\n",
      "\n",
      "\n",
      "\n",
      "epen_ns_inh\n",
      "\n",
      "\n",
      "rerngssnt\n",
      "rtrrtigius_otp\n",
      "\n",
      "to_suigitrrt\n",
      "nu_r\n",
      "h__i_tp\n",
      "pto_suigitrrtr\n",
      "rpis_y\n"
     ]
    }
   ],
   "source": [
    "a=\"python_is_using_interpreter\"\n",
    "\n",
    "print(a[-2:0:-1])\n",
    "print(a[5:-5:5])\n",
    "print(a[-5:5:-5])\n",
    "print(a[5:-5:-5])\n",
    "print(a[3:9:-1])\n",
    "print(a[9:-10:-2])\n",
    "print(a[2:-4:-4])\n",
    "print(a[-4:2:-2])\n",
    "print(a[0:-1:-3])\n",
    "print(a[-3:3:6])\n",
    "print(a[::-3])\n",
    "print(a[::-2])\n",
    "print(a[2:-2:-2])\n",
    "print(a[2:-2:2])\n",
    "print(a[5:-5:5])\n",
    "print(a[3:-3:3])\n",
    "print(a[::2])\n",
    "print(a[::-5])"
   ]
  },
  {
   "cell_type": "code",
   "execution_count": 3,
   "id": "2511c259",
   "metadata": {},
   "outputs": [
    {
     "name": "stdout",
     "output_type": "stream",
     "text": [
      "es\n",
      "ienc\n",
      " \n",
      "t ic\n",
      "cmu\n",
      "ce\n",
      "ese\n",
      "tc\n",
      "pese\n",
      "i\n"
     ]
    }
   ],
   "source": [
    "a=\"computer science\"\n",
    "\n",
    "print(a[-10:10:3])\n",
    "print(a[-5:-1:1])\n",
    "print(a[-8:-2:10])\n",
    "print(a[5::3])\n",
    "print(a[:5:2])\n",
    "print(a[10:14:2])\n",
    "print(a[-10:-3:3])\n",
    "print(a[5:12:5])\n",
    "print(a[3:-3:3])\n",
    "print(a[-5:-3:20])"
   ]
  },
  {
   "cell_type": "code",
   "execution_count": 4,
   "id": "baf1a4e9",
   "metadata": {},
   "outputs": [
    {
     "name": "stdout",
     "output_type": "stream",
     "text": [
      "\n",
      "bjec\n",
      "d\n",
      "oaoiaie jt\n",
      "Lnv\n",
      "tp\n",
      "e j\n",
      "ot\n",
      "o_pps gno\n",
      "b\n"
     ]
    }
   ],
   "source": [
    "a=\"Lenovo_Laptop_is_a highend object\"\n",
    "\n",
    "\n",
    "print(a[-10:10:3])\n",
    "print(a[-5:-1:1])\n",
    "print(a[-8:-2:10])\n",
    "print(a[5::3])\n",
    "print(a[:5:2])\n",
    "print(a[10:14:2])\n",
    "print(a[-10:-3:3])\n",
    "print(a[5:12:5])\n",
    "print(a[3:-3:3])\n",
    "print(a[-5:-3:20])"
   ]
  },
  {
   "cell_type": "code",
   "execution_count": 5,
   "id": "dbe44e7a",
   "metadata": {},
   "outputs": [
    {
     "name": "stdout",
     "output_type": "stream",
     "text": [
      "\n",
      "owse\n",
      "_\n",
      "ehmbwr\n",
      "Gol\n",
      "oe\n",
      "mbw\n",
      "eo\n",
      "g_rer\n",
      "o\n"
     ]
    }
   ],
   "source": [
    "a=\"Google_chrome_browser\"\n",
    "\n",
    "\n",
    "print(a[-10:10:3])\n",
    "print(a[-5:-1:1])\n",
    "print(a[-8:-2:10])\n",
    "print(a[5::3])\n",
    "print(a[:5:2])\n",
    "print(a[10:14:2])\n",
    "print(a[-10:-3:3])\n",
    "print(a[5:12:5])\n",
    "print(a[3:-3:3])\n",
    "print(a[-5:-3:20])"
   ]
  }
 ],
 "metadata": {
  "kernelspec": {
   "display_name": "Python 3 (ipykernel)",
   "language": "python",
   "name": "python3"
  },
  "language_info": {
   "codemirror_mode": {
    "name": "ipython",
    "version": 3
   },
   "file_extension": ".py",
   "mimetype": "text/x-python",
   "name": "python",
   "nbconvert_exporter": "python",
   "pygments_lexer": "ipython3",
   "version": "3.10.0"
  }
 },
 "nbformat": 4,
 "nbformat_minor": 5
}
