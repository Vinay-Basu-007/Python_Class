{
 "cells": [
  {
   "cell_type": "markdown",
   "id": "bad5dbef",
   "metadata": {},
   "source": [
    "## Type-1:- [starting index (including) : ending index (excluding) : index interval(optional)]"
   ]
  },
  {
   "cell_type": "code",
   "execution_count": 1,
   "id": "80e8535d",
   "metadata": {},
   "outputs": [
    {
     "name": "stdout",
     "output_type": "stream",
     "text": [
      "om\n",
      "compu\n",
      "ien\n",
      "com\n",
      "puter_science\n",
      "computer_science\n"
     ]
    }
   ],
   "source": [
    "var = \"computer_science\"\n",
    "\n",
    "print(var[1:3])              #om\n",
    "print(var[0:5])              #compu\n",
    "print(var[-5:-2])            #ien\n",
    "print(var[:3])               #com\n",
    "print(var[3:])               #puter_science\n",
    "print(var[:])                #computer_science"
   ]
  },
  {
   "cell_type": "markdown",
   "id": "8985b3de",
   "metadata": {},
   "source": [
    "## Type-2:- [starting index (including) : ending index (excluding) : index interval]"
   ]
  },
  {
   "cell_type": "code",
   "execution_count": 2,
   "id": "fa4771a2",
   "metadata": {},
   "outputs": [
    {
     "name": "stdout",
     "output_type": "stream",
     "text": [
      "sant_Tec\n",
      "sant_Tec\n",
      "sn_e\n",
      "ste\n",
      "Tec\n",
      "Tec\n",
      "Tc\n",
      "T\n",
      "t_Technologies\n",
      "tTcnlge\n",
      "Besan\n",
      "Besant_Technol\n",
      "nlge\n"
     ]
    }
   ],
   "source": [
    "var = \"Besant_Technologies\"\n",
    "\n",
    "print(var[2:10])              #sant_Tec\n",
    "print(var[2:10:1])            #sant_Tec\n",
    "print(var[2:10:2])            #sn_e\n",
    "print(var[2:10:3])            #ste\n",
    "print(var[-12:10])            #Tec\n",
    "print(var[-12:10:1])          #Tec\n",
    "print(var[-12:10:2])          #Tc\n",
    "print(var[-12:10:3])          #T\n",
    "\n",
    "print(var[5::1])              #t_Technologies\n",
    "print(var[5::2])              #tTcnlge \n",
    "print(var[:5:1])              #Besan\n",
    "print(var[:-5:1])             #Besant_Technol\n",
    "print(var[-8::2])             #nlge"
   ]
  }
 ],
 "metadata": {
  "kernelspec": {
   "display_name": "Python 3 (ipykernel)",
   "language": "python",
   "name": "python3"
  },
  "language_info": {
   "codemirror_mode": {
    "name": "ipython",
    "version": 3
   },
   "file_extension": ".py",
   "mimetype": "text/x-python",
   "name": "python",
   "nbconvert_exporter": "python",
   "pygments_lexer": "ipython3",
   "version": "3.10.0"
  }
 },
 "nbformat": 4,
 "nbformat_minor": 5
}
